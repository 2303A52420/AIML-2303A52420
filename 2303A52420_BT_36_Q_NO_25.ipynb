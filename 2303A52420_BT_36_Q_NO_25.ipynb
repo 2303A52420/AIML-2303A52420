{
  "nbformat": 4,
  "nbformat_minor": 0,
  "metadata": {
    "colab": {
      "provenance": [],
      "authorship_tag": "ABX9TyMVmmrZL5TOfQrwuKhQIE90",
      "include_colab_link": true
    },
    "kernelspec": {
      "name": "python3",
      "display_name": "Python 3"
    },
    "language_info": {
      "name": "python"
    }
  },
  "cells": [
    {
      "cell_type": "markdown",
      "metadata": {
        "id": "view-in-github",
        "colab_type": "text"
      },
      "source": [
        "<a href=\"https://colab.research.google.com/github/2303A52420/AIML-2303A52420/blob/main/2303A52420_BT_36_Q_NO_25.ipynb\" target=\"_parent\"><img src=\"https://colab.research.google.com/assets/colab-badge.svg\" alt=\"Open In Colab\"/></a>"
      ]
    },
    {
      "cell_type": "markdown",
      "source": [
        "#**HT NO:2303A52420**\n",
        "#**BATCH:36**\n",
        "#**QUESTION NO:25**\n",
        "\n"
      ],
      "metadata": {
        "id": "Q9V_RnFyBP0f"
      }
    },
    {
      "cell_type": "markdown",
      "source": [
        "\n",
        "\n",
        "Prediction of South Indian travel Destinations using Holiday Data\n",
        "\n",
        "1. Identify the top 5 attributes for south India destinations\n",
        "\n",
        "2. Identify the attribute with most liked travel spots\n",
        "\n",
        "3. Find the max and min attributes of choice for south India tourism\n",
        "\n",
        "\n",
        "4. What is the role of beaches, theatres, malls, parks in India tourism south\n",
        "\n",
        "5. Identify the sports with most attributes in south India\n",
        "\n",
        "6. Apply either Classification Model or Clustering Model to evaluate the dataset\n",
        "\n"
      ],
      "metadata": {
        "id": "rqVaJGt3Btzr"
      }
    },
    {
      "cell_type": "code",
      "execution_count": 1,
      "metadata": {
        "id": "LNTwFC5c_i0e"
      },
      "outputs": [],
      "source": [
        "import pandas as pd\n",
        "import numpy as np\n",
        "from sklearn.model_selection import train_test_split\n",
        "from sklearn.ensemble import RandomForestClassifier\n",
        "from sklearn.cluster import KMeans\n",
        "from sklearn.metrics import classification_report, confusion_matrix\n",
        "import matplotlib.pyplot as plt\n",
        "import seaborn as sns"
      ]
    },
    {
      "cell_type": "code",
      "source": [
        "# Load dataset\n",
        "# Replace 'south_india_travel_data.csv' with your dataset file path\n",
        "data = pd.read_csv('/content/buddymove_holidayiq.csv')\n",
        "\n",
        "# Display the first few rows of the dataset\n",
        "print(data.head())\n",
        "\n",
        "# Handle missing values if any\n",
        "# Example: data.fillna(method='ffill', inplace=True)"
      ],
      "metadata": {
        "colab": {
          "base_uri": "https://localhost:8080/"
        },
        "id": "N7MO9mYGB9oI",
        "outputId": "7ea1afa3-d2b0-438e-cd86-fa1fc745253b"
      },
      "execution_count": 2,
      "outputs": [
        {
          "output_type": "stream",
          "name": "stdout",
          "text": [
            "  User Id  Sports  Religious  Nature  Theatre  Shopping  Picnic\n",
            "0  User 1       2         77      79       69        68      95\n",
            "1  User 2       2         62      76       76        69      68\n",
            "2  User 3       2         50      97       87        50      75\n",
            "3  User 4       2         68      77       95        76      61\n",
            "4  User 5       2         98      54       59        95      86\n"
          ]
        }
      ]
    },
    {
      "cell_type": "code",
      "source": [
        "# Load dataset\n",
        "# Replace 'south_india_travel_data.csv' with your dataset file path\n",
        "data = pd.read_csv('/content/buddymove_holidayiq.csv')\n",
        "\n",
        "# Print the available columns to check for the correct attribute column name\n",
        "print(data.columns)\n",
        "\n",
        "# Assuming the dataset has a column 'Place Type' with destination attributes\n",
        "# If the column name is different, replace 'Place Type' with the actual column name\n",
        "# Check the output of data.columns and use the correct column name here\n",
        "# For example, if the column is named 'Place_Type', use:\n",
        "# top_attributes = data['Place_Type'].value_counts().head(5)\n",
        "top_attributes = data[data.columns[2]].value_counts().head(5)  # Replace with the correct column name\n",
        "print(\"Top 5 attributes for South India destinations:\\n\", top_attributes)"
      ],
      "metadata": {
        "colab": {
          "base_uri": "https://localhost:8080/"
        },
        "id": "bSzjcX8FCEwL",
        "outputId": "26521cab-5731-4072-f5ab-68c112866023"
      },
      "execution_count": 5,
      "outputs": [
        {
          "output_type": "stream",
          "name": "stdout",
          "text": [
            "Index(['User Id', 'Sports', 'Religious', 'Nature', 'Theatre', 'Shopping',\n",
            "       'Picnic'],\n",
            "      dtype='object')\n",
            "Top 5 attributes for South India destinations:\n",
            " Religious\n",
            "84     17\n",
            "114    15\n",
            "93     11\n",
            "79      9\n",
            "94      8\n",
            "Name: count, dtype: int64\n"
          ]
        }
      ]
    },
    {
      "cell_type": "markdown",
      "source": [
        "QUESTION 1"
      ],
      "metadata": {
        "id": "x6VXUS2dFi1v"
      }
    },
    {
      "cell_type": "code",
      "source": [
        "# Step 1: Identify the top 5 attributes for South India destinations\n",
        "# Summing up values for each attribute to find the most popular ones\n",
        "attribute_totals = data.iloc[:, 1:].sum().sort_values(ascending=False)\n",
        "top_5_attributes = attribute_totals.head(5)\n",
        "\n",
        "print(\"Top 5 attributes for South India destinations:\")\n",
        "print(top_5_attributes)\n"
      ],
      "metadata": {
        "colab": {
          "base_uri": "https://localhost:8080/"
        },
        "id": "8bTmIrERCpNA",
        "outputId": "29033802-54a7-47e3-9a2d-e549faca0e3e"
      },
      "execution_count": 7,
      "outputs": [
        {
          "output_type": "stream",
          "name": "stdout",
          "text": [
            "Top 5 attributes for South India destinations:\n",
            "Nature       31005\n",
            "Picnic       29980\n",
            "Theatre      28978\n",
            "Shopping     28047\n",
            "Religious    27335\n",
            "dtype: int64\n"
          ]
        }
      ]
    },
    {
      "cell_type": "markdown",
      "source": [
        "QUESTION 2"
      ],
      "metadata": {
        "id": "rEZUxC9WFoKY"
      }
    },
    {
      "cell_type": "code",
      "source": [
        "# Step 2: Identify the attribute with the most liked travel spots\n",
        "most_liked_attribute = attribute_totals.idxmax()\n",
        "most_liked_value = attribute_totals.max()\n",
        "\n",
        "print(f\"Most liked attribute: {most_liked_attribute} ({most_liked_value})\")\n"
      ],
      "metadata": {
        "colab": {
          "base_uri": "https://localhost:8080/"
        },
        "id": "j9bLPS_eEFMm",
        "outputId": "a3a98b83-5cb0-4e7f-f4d8-00db29e3d71f"
      },
      "execution_count": 8,
      "outputs": [
        {
          "output_type": "stream",
          "name": "stdout",
          "text": [
            "Most liked attribute: Nature (31005)\n"
          ]
        }
      ]
    },
    {
      "cell_type": "markdown",
      "source": [
        "QUESTION 3"
      ],
      "metadata": {
        "id": "p3yyY-r0FuBB"
      }
    },
    {
      "cell_type": "code",
      "source": [
        "# Step 3: Find the max and min attributes of choice\n",
        "max_attribute = attribute_totals.idxmax()\n",
        "max_value = attribute_totals.max()\n",
        "min_attribute = attribute_totals.idxmin()\n",
        "min_value = attribute_totals.min()\n",
        "\n",
        "print(f\"Maximum attribute: {max_attribute} ({max_value})\")\n",
        "print(f\"Minimum attribute: {min_attribute} ({min_value})\")\n"
      ],
      "metadata": {
        "colab": {
          "base_uri": "https://localhost:8080/"
        },
        "id": "XQXBhEAkELUk",
        "outputId": "7ea5cde0-b295-4a91-8c19-5af634fce03b"
      },
      "execution_count": 9,
      "outputs": [
        {
          "output_type": "stream",
          "name": "stdout",
          "text": [
            "Maximum attribute: Nature (31005)\n",
            "Minimum attribute: Sports (2985)\n"
          ]
        }
      ]
    },
    {
      "cell_type": "markdown",
      "source": [
        "QUESTION 4"
      ],
      "metadata": {
        "id": "DITq8UudF11n"
      }
    },
    {
      "cell_type": "code",
      "source": [
        "# Step 4: Analyze specific roles (example: Theatre role analysis)\n",
        "role_analysis = data['Theatre'].describe()\n",
        "\n",
        "print(\"Role of Theatre in tourism:\")\n",
        "print(role_analysis)\n"
      ],
      "metadata": {
        "colab": {
          "base_uri": "https://localhost:8080/"
        },
        "id": "A6oa8oDVEQ9M",
        "outputId": "bb12006f-c636-44a9-bb36-4df645d0456c"
      },
      "execution_count": 10,
      "outputs": [
        {
          "output_type": "stream",
          "name": "stdout",
          "text": [
            "Role of Theatre in tourism:\n",
            "count    249.000000\n",
            "mean     116.377510\n",
            "std       32.132696\n",
            "min       59.000000\n",
            "25%       93.000000\n",
            "50%      113.000000\n",
            "75%      138.000000\n",
            "max      213.000000\n",
            "Name: Theatre, dtype: float64\n"
          ]
        }
      ]
    },
    {
      "cell_type": "markdown",
      "source": [
        "QUESTION 5"
      ],
      "metadata": {
        "id": "kzwZoB2zF4dA"
      }
    },
    {
      "cell_type": "code",
      "source": [
        "# Step 5: Identify the sports with the most attributes\n",
        "# Assuming 'Sports' corresponds to activities labeled in the dataset\n",
        "sports_total = data['Sports'].sum()\n",
        "\n",
        "print(f\"Total sports-related attribute value: {sports_total}\")\n"
      ],
      "metadata": {
        "colab": {
          "base_uri": "https://localhost:8080/"
        },
        "id": "K56VdCwMEaIh",
        "outputId": "b573b2ec-861b-487b-be2d-ac4dc7ae3348"
      },
      "execution_count": 11,
      "outputs": [
        {
          "output_type": "stream",
          "name": "stdout",
          "text": [
            "Total sports-related attribute value: 2985\n"
          ]
        }
      ]
    },
    {
      "cell_type": "markdown",
      "source": [
        "QUESTION 6"
      ],
      "metadata": {
        "id": "akAKMTGGFbiK"
      }
    },
    {
      "cell_type": "code",
      "source": [
        "from sklearn.cluster import KMeans\n",
        "from sklearn.preprocessing import StandardScaler\n",
        "\n",
        "# Step 6: Clustering using K-Means\n",
        "features = data.iloc[:, 1:]  # Exclude User Id\n",
        "scaler = StandardScaler()\n",
        "scaled_features = scaler.fit_transform(features)\n",
        "\n",
        "# Apply K-Means\n",
        "kmeans = KMeans(n_clusters=3, random_state=42)\n",
        "data['Cluster'] = kmeans.fit_predict(scaled_features)\n",
        "\n",
        "print(\"K-Means Clustering Results:\")\n",
        "print(data[['User Id', 'Cluster']].head())\n"
      ],
      "metadata": {
        "colab": {
          "base_uri": "https://localhost:8080/"
        },
        "id": "wDFa6FYTEhKl",
        "outputId": "3f3868f5-e3b8-4364-8d07-8891380833aa"
      },
      "execution_count": 12,
      "outputs": [
        {
          "output_type": "stream",
          "name": "stdout",
          "text": [
            "K-Means Clustering Results:\n",
            "  User Id  Cluster\n",
            "0  User 1        2\n",
            "1  User 2        2\n",
            "2  User 3        2\n",
            "3  User 4        2\n",
            "4  User 5        2\n"
          ]
        }
      ]
    },
    {
      "cell_type": "code",
      "source": [],
      "metadata": {
        "id": "XBSE4_t4Ek-T"
      },
      "execution_count": null,
      "outputs": []
    },
    {
      "cell_type": "markdown",
      "source": [],
      "metadata": {
        "id": "ujKf1HyrBOoi"
      }
    }
  ]
}